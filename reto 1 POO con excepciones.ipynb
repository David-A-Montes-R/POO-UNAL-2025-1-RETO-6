{
 "cells": [
  {
   "cell_type": "code",
   "execution_count": 4,
   "metadata": {},
   "outputs": [
    {
     "name": "stdout",
     "output_type": "stream",
     "text": [
      "guía de símbolos:\n",
      "suma: + \n",
      " resta:- \n",
      " multiplicación : * \n",
      " division: / \n",
      " potencia: ^\n",
      "no se pudo realizar la operación ya que no se introdujo un signo válido \n",
      "por favor vuelva a ejecutar el programa\n"
     ]
    }
   ],
   "source": [
    "\"\"\"Crear una función que realice operaciones básicas \n",
    "(suma, resta, multiplicación, división) entre dos números, \n",
    "según la elección del usuario, la forma de entrada \n",
    "de la función será los dos operandos y el caracter usado para la operación. \n",
    "entrada: (1,2,\"+\"), salida (3). \"\"\"\n",
    "import time\n",
    "def operaciones(n:float,m:float,op:str):\n",
    "    match op:\n",
    "        case \"+\":\n",
    "            resultado = n + m\n",
    "        case \"*\":\n",
    "            resultado = n * m\n",
    "        case \"-\":\n",
    "            resultado = n - m\n",
    "        case \"/\":\n",
    "            resultado = n / m\n",
    "        case \"^\":\n",
    "            resultado = n ** m\n",
    "        #case _:\n",
    "            #resultado = \"vuelva a introducir el símbolo operativo ( +,-,*,/,^) \"        \n",
    "    return resultado\n",
    "if __name__ == '__main__':\n",
    "    try:\n",
    "        n = float(input(\"introduzca el primer número: \"))\n",
    "        m = float(input(\"introduzca el segundo número: \"))\n",
    "        print(\"guía de símbolos:\")\n",
    "        time.sleep(1)\n",
    "        print( \"suma: +\",\"\\n\", \"resta:-\",\"\\n\", \"multiplicación : *\",\"\\n\",\n",
    "            \"division: /\",\"\\n\",\"potencia: ^\")\n",
    "        op = str(input(\"introduzca la operación que quiere realizar(símbolo): \"))\n",
    "        try:\n",
    "            print(\"resultado:\",operaciones(n,m,op))\n",
    "        except UnboundLocalError:\n",
    "            print(\"no se pudo realizar la operación ya que no se introdujo un signo válido \\n\\\n",
    "por favor vuelva a ejecutar el programa\")\n",
    "    except ValueError:\n",
    "        print(\" se introdujo un valor no correspondiente a un número en n o m, por favor intente de nuevo\")"
   ]
  },
  {
   "cell_type": "code",
   "execution_count": null,
   "metadata": {},
   "outputs": [
    {
     "name": "stdout",
     "output_type": "stream",
     "text": [
      "[]\n",
      "la palabra introducida es un palíndromo\n"
     ]
    }
   ],
   "source": [
    "\"\"\"Realice una función que permita validar si una palabra es un palíndromo. \n",
    "Condición: No se vale hacer slicing para invertir la palabra y verificar \n",
    "que sea igual a la original.\"\"\"\n",
    "def palíndromo(palabra:str):\n",
    "    palabra = palabra.lower() #para aceptar entradas con mayúsculas\n",
    "    lista_caracteres = []\n",
    "    lista_caracteres_2 = []\n",
    "    for ch in palabra:\n",
    "        lista_caracteres.append(ch)\n",
    "    for i in range(len(lista_caracteres),0,-1):\n",
    "        lista_caracteres_2.append(lista_caracteres[i-1])\n",
    "#* monitorización\n",
    "    #print(lista_caracteres)\n",
    "    #print(lista_caracteres_2)\n",
    "    if lista_caracteres == lista_caracteres_2:\n",
    "        juicio = True\n",
    "    else:\n",
    "        juicio= False\n",
    "    return juicio\n",
    "if __name__ == \"__main__\":\n",
    "    #aquí lo único que se me ocurre es que se le meta un símbolo Unicode que no se pueda poner en una cadena\n",
    "    #copilot dice que al no meter nada es posible que salga un error, pero pues eso solo tira una lista vacía\n",
    "    palabra = str(input(\"introduzca la palabra para saber si es palíndromo o no:\"))\n",
    "    if palíndromo(palabra) == True:\n",
    "        print(\"la palabra introducida es un palíndromo\")\n",
    "    else:\n",
    "        print(\"la palabra no es un palíndromo\")"
   ]
  },
  {
   "cell_type": "code",
   "execution_count": 69,
   "metadata": {},
   "outputs": [
    {
     "name": "stdout",
     "output_type": "stream",
     "text": [
      "El error es 'hola' en el índice 2 de la lista de números\n",
      "evitando este error se obtiene la lista con números primos:\n",
      "[2, 5, 7, 11, 13, 17, 19, 23, 29, 31, 37, 41, 43, 47, 53, 59, 61, 67, 71, 73, 79, 83, 89, 97]\n"
     ]
    }
   ],
   "source": [
    "\"\"\"Escribir una función que reciba una lista de números y devuelva solo aquellos\n",
    "que son primos. La función debe recibir una lista de enteros \n",
    "y retornar solo aquellos que sean primos.\"\"\"\n",
    "\n",
    "numeros = [1, 2, \"hola\", 4, 5, 6, 7, 8, 9, 10, 11, 12, 13, 14, 15, 16, 17, 18, 19, 20, \n",
    "           21, 22, 23, 24, 25, 26, 27, 28, 29, 30, 31, 32, 33, 34, 35, 36, 37, 38, \n",
    "           39, 40, 41, 42, 43, 44, 45, 46, 47, 48, 49, 50, 51, 52, 53, 54, 55, 56, \n",
    "           57, 58, 59, 60, 61, 62, 63, 64, 65, 66, 67, 68, 69, 70, 71, 72, 73, 74, \n",
    "           75, 76, 77, 78, 79, 80, 81, 82, 83, 84, 85, 86, 87, 88, 89, 90, 91, 92, \n",
    "           93, 94, 95, 96, 97, 98, 99, 100]\n",
    "#print(numeros)\n",
    "#gracias a copilot por imprimir la lista de prueba\n",
    "def primos(numeros:list):\n",
    "    numeros_algunos_primos = []\n",
    "    numeros_no_todos_primos = []\n",
    "    numeros_primos = []\n",
    "    for i in numeros[0:int(len(numeros)):1]:\n",
    "        numeros_no_todos_primos.append(i)\n",
    "    for j in numeros_no_todos_primos: \n",
    "            #se saca una lista con números primos únicos y números no primos repetidos\n",
    "            try:\n",
    "                for k in range(1,j,1):\n",
    "                    if j % k == 0 and k != j:\n",
    "                        numeros_algunos_primos.append(j)\n",
    "                    else: continue\n",
    "            except TypeError:\n",
    "                print(f\"El error es {f\"'{str(j)}'\"} en el índice {numeros.index(j)} de la lista de números\")\n",
    "                print(\"evitando este error se obtiene la lista con números primos:\")\n",
    "    for n in numeros_algunos_primos:\n",
    "        if numeros_algunos_primos.count(n) == 1:\n",
    "            numeros_primos.append(n)\n",
    "    return numeros_primos #* esto es posible optimizarlo aún más\n",
    "if __name__==\"__main__\":\n",
    "    # try except de typeError, retornar el indíce de la lista que no es número\n",
    "        print(primos(numeros))"
   ]
  },
  {
   "cell_type": "code",
   "execution_count": null,
   "metadata": {},
   "outputs": [
    {
     "name": "stdout",
     "output_type": "stream",
     "text": [
      "la mayor suma entre dos números consecutivos en la lista es: \n",
      "El error es '81' en el índice 6 de la lista de números\n",
      "evitando este error se obtiene la suma:\n",
      "El error es 'gatito' en el índice 7 de la lista de números\n",
      "evitando este error se obtiene la suma:\n",
      "[49, 106, 117, 83, 88, 104, 48, 103, 94, 79, 123, 72, 113, 146, 59, 34, 133, 109, 94, 114, 91, 76, 64, 122, 167, 134, 45, 26, 88, 99, 114, 94, 56, 142, 123, 89, 67, 82, 100, 115, 141, 64, 86, 105, 122, 89, 58, 66, 50, 106, 94, 36, 82, 93, 72, 143, 95, 37, 92, 73, 97, 130, 70, 122, 135, 54, 84, 97, 110, 124, 59, 86, 105, 126, 141, 70, 82, 88, 100, 111, 134, 151, 98, 120, 141, 150, 138, 93, 130, 164, 132, 136, 130, 145, 153, 141, 151, 89]\n",
      "167\n"
     ]
    }
   ],
   "source": [
    "\"\"\"Escribir una función que reciba una lista de números enteros y \n",
    "retorne la mayor suma entre dos elementos consecutivos.\"\"\"\n",
    "#lista de prueba ordenada\n",
    "\"\"\"numeros = [1, 2, 3, 4, 5, 6, 7, 8, 9, 10, 11, 12, 13, 14, 15, 16, 17, 18, 19, 20, \n",
    "           21, 22, 23, 24, 25, 26, 27, 28, 29, 30, 31, 32, 33, 34, 35, 36, 37, 38, \n",
    "           39, 40, 41, 42, 43, 44, 45, 46, 47, 48, 49, 50, 51, 52, 53, 54, 55, 56, \n",
    "           57, 58, 59, 60, 61, 62, 63, 64, 65, 66, 67, 68, 69, 70, 71, 72, 73, 74, \n",
    "           75, 76, 77, 78, 79, 80, 81, 82, 83, 84, 85, 86, 87, 88, 89, 90, 91, 92, \n",
    "           93, 94, 95, 96, 97, 98, 99, 100]\"\"\"\n",
    "#lista de prueba en desorden\n",
    "numeros = [42, 7, 99, 18, 65, 23, 81, \"gatito\", 36, 12, 91, 3, 76, 47, 25, 88, 58, 1, 33, 100, \n",
    "           9, 85, 29, 62, 14, 50, 72, 95, 39, 6, 20, 68, 31, 83, 11, 45, 97, 26, 63, 4, \n",
    "           78, 22, 93, 48, 16, 70, 35, 87, 2, 56, 10, 40, 66, 28, 8, 74, 19, 53, 90, 5, \n",
    "           32, 60, 13, 84, 46, 24, 98, 37, 17, 67, 30, 80, 44, 15, 71, 34, 92, 49, 21, \n",
    "           61, 27, 73, 38, 96, 55, 43, 77, 64, 86, 52, 41, 89, 75, 57, 79, 51, 94, 59, 82, 69, 20]\n",
    "#lista de prueba muy grande\n",
    "#numeros = list(range(1, 10000001)) \n",
    "#random.shuffle(numeros)  # Mezcla la lista en desorden\n",
    "def sumador(numeros:list):\n",
    "    sumas = []\n",
    "    for n in range(0,len(numeros)-1,1):\n",
    "        try:\n",
    "            sumas.append(numeros[n]+numeros[n+1])\n",
    "        except TypeError:\n",
    "            print(f\"El error es {f\"'{numeros[n]}'\"} en el índice {n} de la lista de números\")\n",
    "            print(\"evitando este error se obtiene la suma:\") \n",
    "        #se suman todos los números con su consecutivo\n",
    "    print(sumas)\n",
    "    sumas.sort()\n",
    "    mayor = sumas[len(sumas)-1]\n",
    "    return mayor\n",
    "if __name__ == \"__main__\":\n",
    "    # try except de typeError, retornar el indíce de la lista que no es número\n",
    "    print(\"la mayor suma entre dos números consecutivos en la lista es: \")\n",
    "    print(sumador(numeros))"
   ]
  },
  {
   "cell_type": "code",
   "execution_count": 79,
   "metadata": {},
   "outputs": [
    {
     "name": "stdout",
     "output_type": "stream",
     "text": [
      " esta es tu lista original: \n",
      "['amor', 'roma', 'perro', 'mora', 'ramo', 8, 'toga', 'ratón', 'tórax', 'maro']\n",
      "hay un objeto <class 'int'> en el indíce 5 de la lista\n",
      " esta es tu lista con las palabras que repiten todos sus caracteres\n",
      "['amor', 'roma', 'mora', 'ramo', 'tórax']\n"
     ]
    }
   ],
   "source": [
    "\"\"\"Escribir una función que reciba una lista de string y \n",
    "retorne unicamente aquellos elementos que tengan los mismos caracteres. \n",
    "e.g. entrada: [\"amor\", \"roma\", \"perro\"], salida [\"amor\", \"roma\"]\"\"\"\n",
    "#gracias copilot\n",
    "palabras = [\"amor\", \"roma\", \"perro\", \"mora\", \"ramo\", 8, \"toga\", \"ratón\", \"tórax\", \"maro\"]\n",
    "def buscador(palabras:list):\n",
    "    lista_nuevas_p = []\n",
    "    resultado_casi = []\n",
    "    resultado = []\n",
    "    for p in palabras:\n",
    "        try:\n",
    "            nueva_p = sorted(p)\n",
    "            lista_nuevas_p.append(nueva_p)\n",
    "        except TypeError:\n",
    "            print(f\"hay un objeto {type(p)} en el indíce {palabras.index(p)} de la lista\")\n",
    "    #print(lista_nuevas_p)\n",
    "    for pp in range(0,len(lista_nuevas_p),1):\n",
    "        #print(lista_nuevas_p.count(lista_nuevas_p[pp]))\n",
    "        if lista_nuevas_p.count(lista_nuevas_p[pp]) > 1  and not palabras[pp] in resultado:\n",
    "            resultado_casi.append(palabras[pp])\n",
    "    for ppp in range(0,len(resultado_casi),1):\n",
    "        if not sorted(resultado_casi[ppp]) == sorted(resultado_casi[ppp - 1]):\n",
    "            pedazo_resultado = []\n",
    "            for ppp in range(0,len(resultado_casi),1):\n",
    "                if not sorted(resultado_casi[ppp]) == sorted(resultado_casi[ppp - 1]):\n",
    "                    pedazo_resultado.append(resultado_casi[ppp])\n",
    "    return resultado_casi\n",
    "\n",
    "if __name__ == \"__main__\":\n",
    "    print(\" esta es tu lista original: \")\n",
    "    print(palabras)\n",
    "    # try except de typeError, retornar el indíce de la lista que no es palabra\n",
    "    p1 = buscador(palabras)\n",
    "    print(\" esta es tu lista con las palabras que repiten todos sus caracteres\")\n",
    "    print(p1)"
   ]
  }
 ],
 "metadata": {
  "kernelspec": {
   "display_name": "Python 3",
   "language": "python",
   "name": "python3"
  },
  "language_info": {
   "codemirror_mode": {
    "name": "ipython",
    "version": 3
   },
   "file_extension": ".py",
   "mimetype": "text/x-python",
   "name": "python",
   "nbconvert_exporter": "python",
   "pygments_lexer": "ipython3",
   "version": "3.12.2"
  }
 },
 "nbformat": 4,
 "nbformat_minor": 2
}
